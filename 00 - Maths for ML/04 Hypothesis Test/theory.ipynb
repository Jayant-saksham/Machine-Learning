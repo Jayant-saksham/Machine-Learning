{
 "cells": [
  {
   "cell_type": "markdown",
   "metadata": {},
   "source": [
    "# Hypothesis Testing"
   ]
  },
  {
   "cell_type": "markdown",
   "metadata": {},
   "source": [
    "**A hypothesis is an educated guess about something in the world around you. It should be testable, either by experiment or observation**"
   ]
  },
  {
   "cell_type": "markdown",
   "metadata": {},
   "source": [
    "**NUll Hypothesis :**\n",
    "**The main purpose of a null hypothesis is to verify/ disprove the proposed statistical assumptions.**"
   ]
  },
  {
   "cell_type": "markdown",
   "metadata": {},
   "source": [
    "<img src=\"https://img.ifunny.co/images/153a971786eb82ca3660b42478ec59601d975501db9ebebb8e4bf1e5bdbc9e5d_1.webp\">"
   ]
  },
  {
   "cell_type": "markdown",
   "metadata": {},
   "source": []
  }
 ],
 "metadata": {
  "language_info": {
   "name": "python"
  },
  "orig_nbformat": 4
 },
 "nbformat": 4,
 "nbformat_minor": 2
}
